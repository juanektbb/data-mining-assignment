{
 "cells": [
  {
   "cell_type": "markdown",
   "metadata": {},
   "source": [
    "# Part 1: Nearest Neighbour\n",
    "### By: Gokhan Arkan & Juan Diaz\n",
    "<br>\n",
    "\n",
    "The cell below imports the required libraries and both testing and training data needed for the models."
   ]
  },
  {
   "cell_type": "code",
   "execution_count": 9,
   "metadata": {},
   "outputs": [],
   "source": [
    "import pandas as pd\n",
    "import numpy as np\n",
    "\n",
    "data_train = pd.read_csv('sonar_train.csv', header='infer')\n",
    "data_test = pd.read_csv('sonar_test.csv', header='infer')"
   ]
  },
  {
   "cell_type": "markdown",
   "metadata": {},
   "source": [
    "The following cell contains the two algorithms (Euclidean & Manhattan) as functions<br><br>\n",
    "They both require:\n",
    "* Two vectors to be evaluated\n",
    "* The amount of attributes to considere (it is 60 by default, declared in the main function)"
   ]
  },
  {
   "cell_type": "code",
   "execution_count": 4,
   "metadata": {},
   "outputs": [],
   "source": [
    "# Function to calculate (float) euclidean distance \n",
    "def euclideanDistance(vector_1, vector_2, attr_length):\n",
    "    distance = 0.0\n",
    "\n",
    "    # Go through attributes in attr_length (60 attributes) and add the squares up\n",
    "    for x in range(attr_length):\n",
    "        distance += (vector_1[x] - vector_2[x]) ** 2\n",
    "\n",
    "    # Square the distance before returning\n",
    "    return np.sqrt(distance)\n",
    "\n",
    "\n",
    "# Function to calculate (float) manhattan distance\n",
    "def manhattanDistance(vector_1, vector_2, attr_length):\n",
    "    distance = 0.0\n",
    "\n",
    "    # Go through attributes in attr_length (60 attributes) and add the absolute values up\n",
    "    for x in range(attr_length):\n",
    "        distance += np.absolute(vector_1[x] - vector_2[x])\n",
    "\n",
    "    return distance"
   ]
  },
  {
   "cell_type": "markdown",
   "metadata": {},
   "source": [
    "This next cell contains the main function that mesuares all distances of each vector of the Training set with each single Vector from the Testing set.<br>\n",
    "\n",
    "It takes as parameters:\n",
    "* Training set - All data (2D Vector)\n",
    "* Testing vector - One vector per function call\n",
    "* Algorithm type (Euclidean or Manhattan) - String\n",
    "* Attributes length to considere (By default 60)\n",
    "\n",
    "It iterates through each vector of the Training set and calculates the distances (Manhattan or Euclidean) to the Testing vector, storing each distance in a data structure. At then end of the function, the data structure is sorted and the first element is returned, which is the closest vector, its index and distance."
   ]
  },
  {
   "cell_type": "code",
   "execution_count": 3,
   "metadata": {},
   "outputs": [],
   "source": [
    "# Function to return an array in this form [(nearest neighbour vector), distance, index of the vector] \n",
    "def getNearestNeighbour(trainingSet, testingVector, algorithm, attr_length):\n",
    "\n",
    "    distances = []\n",
    "\n",
    "    # Calculate the distance of every vector in the training set\n",
    "    for i in range(len(trainingSet)):\n",
    "\n",
    "        # What algorithm to use (euclidean or manhattan)\n",
    "        if algorithm == 'euclidean':\n",
    "            dist = euclideanDistance(testingVector, trainingSet[i], attr_length)\n",
    "        else:\n",
    "            dist = manhattanDistance(testingVector, trainingSet[i], attr_length)\n",
    "\n",
    "        # Save the (vector, the distance and the index) in distances array  \n",
    "        distances.append([trainingSet[i], dist, i])\n",
    "        \n",
    "    # Convert to NP vector and sort by index 1 (distance) to get the closest first\n",
    "    distances = np.array(distances)\n",
    "    dsorted = distances[np.argsort(distances[:, 1])]\n",
    "\n",
    "    # Return the first element of the sorted array\n",
    "    return dsorted[0]"
   ]
  },
  {
   "cell_type": "markdown",
   "metadata": {},
   "source": [
    "The following is the main function of the program. It is used to get all the class predictions for the Testing data using the Training data. It also uses all the functions declared and explained above. <br>\n",
    "\n",
    "It takes as parameters:\n",
    "* Training set - All data (2D Vector)\n",
    "* Testing set - All data (2D Vector)\n",
    "* Algorithm type (Euclidean or Manhattan) - String\n",
    "* Attributes length to considere (By default 60)\n",
    "\n",
    "`myNN` will store each prediction given by `getNearestNeighbour` for the whole Training set and then return a vector of classes of the same length.\n"
   ]
  },
  {
   "cell_type": "code",
   "execution_count": 6,
   "metadata": {},
   "outputs": [],
   "source": [
    "# Main function to return the vector of all predictions \n",
    "def myNN(trainSet, testSet, algorithm, attr_length):\n",
    "\n",
    "    allPredictions = []\n",
    "\n",
    "    # Go through each vector in the testing data\n",
    "    for i in range(len(testSet)):\n",
    "\n",
    "        # Find the nearest neighbour as [vector, distance (float), index]\n",
    "        nearestNeighbour = getNearestNeighbour(trainSet, testSet[i], algorithm, attr_length) \n",
    "        classfound = nearestNeighbour[0][-1]\n",
    "\n",
    "        # Save each prediction in the data structure\n",
    "        allPredictions.append(classfound)\n",
    "\n",
    "    # Convert to NP array and return\n",
    "    return np.array(allPredictions)"
   ]
  },
  {
   "cell_type": "markdown",
   "metadata": {},
   "source": [
    "Lastly, `getAccuracy` function will find the accuracy percentage comparing the ground truth classes and the predictions given by the program.<br>\n",
    "\n",
    "It requires:<br>\n",
    "* The Testing set which contains the right classes \n",
    "* Vector of predictions obtained by the program"
   ]
  },
  {
   "cell_type": "code",
   "execution_count": 7,
   "metadata": {},
   "outputs": [],
   "source": [
    "# Find the accuracy in respect of the predictions and return its rate\n",
    "def getAccuracy(testset, predictions):\n",
    "    totalright = 0\n",
    "    \n",
    "    # Go through each record of the test data \n",
    "    for i in range(len(testset)):\n",
    "        \n",
    "        # Compare the class of the test data and the prediction for this vector\n",
    "        if testset[i][-1] == predictions[i]:\n",
    "            totalright += 1\n",
    "        \n",
    "    # Calculate and return the accuracy as a float \n",
    "    return (totalright/float(len(testset))) * 100"
   ]
  },
  {
   "cell_type": "markdown",
   "metadata": {},
   "source": [
    "This last cell contains all the function calls and where the results are being retrived and shown. There are calls to training functions, accuracies and display for both algorithms, Euclidean and Manahattan."
   ]
  },
  {
   "cell_type": "code",
   "execution_count": 16,
   "metadata": {},
   "outputs": [
    {
     "name": "stdout",
     "output_type": "stream",
     "text": [
      "Accuracy for Euclidean algorithm: 89.855\n",
      "Accuracy for Manhattan algorithm: 88.406\n",
      "\n",
      "Class predictions for Euclidean:\n",
      " ['R' 'M' 'M' 'R' 'R' 'M' 'M' 'M' 'M' 'M' 'R' 'R' 'R' 'R' 'M' 'M' 'M' 'R'\n",
      " 'M' 'M' 'M' 'R' 'R' 'R' 'R' 'M' 'R' 'R' 'M' 'M' 'M' 'M' 'M' 'R' 'M' 'M'\n",
      " 'M' 'M' 'M' 'R' 'R' 'M' 'M' 'M' 'M' 'R' 'R' 'M' 'R' 'R' 'M' 'R' 'R' 'M'\n",
      " 'M' 'R' 'M' 'R' 'M' 'M' 'R' 'M' 'M' 'R' 'M' 'M' 'M' 'M' 'M']\n",
      "\n",
      "Class predictions for Manhattan:\n",
      " ['R' 'M' 'M' 'R' 'R' 'M' 'M' 'M' 'M' 'M' 'R' 'R' 'R' 'R' 'M' 'M' 'M' 'R'\n",
      " 'M' 'M' 'M' 'R' 'R' 'R' 'R' 'M' 'R' 'R' 'M' 'M' 'M' 'M' 'M' 'R' 'M' 'M'\n",
      " 'M' 'M' 'M' 'R' 'R' 'M' 'M' 'M' 'R' 'R' 'R' 'M' 'R' 'R' 'M' 'R' 'M' 'M'\n",
      " 'M' 'R' 'M' 'R' 'M' 'R' 'M' 'M' 'M' 'R' 'M' 'M' 'M' 'M' 'R']\n",
      "\n",
      "Ground truth classes from Testing set:\n",
      " ['R' 'M' 'M' 'R' 'R' 'R' 'M' 'M' 'M' 'R' 'R' 'R' 'R' 'R' 'R' 'M' 'M' 'M'\n",
      " 'M' 'M' 'M' 'R' 'R' 'R' 'R' 'M' 'R' 'R' 'M' 'M' 'M' 'M' 'M' 'R' 'M' 'M'\n",
      " 'M' 'M' 'M' 'R' 'R' 'M' 'M' 'M' 'R' 'R' 'R' 'M' 'R' 'R' 'M' 'R' 'R' 'M'\n",
      " 'M' 'R' 'M' 'R' 'M' 'M' 'R' 'M' 'M' 'R' 'M' 'M' 'R' 'M' 'R']\n"
     ]
    }
   ],
   "source": [
    "# Convert the data to numpy arrays\n",
    "nparrtrain = np.array(data_train)\n",
    "nparrtest = np.array(data_test)\n",
    "\n",
    "# Get the predictions (NP arrays) for each algorithm\n",
    "predictEucl = myNN(nparrtrain, nparrtest, 'euclidean', 60)\n",
    "predictManh = myNN(nparrtrain, nparrtest, 'manhattan', 60)\n",
    "\n",
    "# Evaluate the accuracy of each prediction by algorithm\n",
    "accuEucl = getAccuracy(nparrtest, predictEucl)\n",
    "accuManh = getAccuracy(nparrtest, predictManh)\n",
    "\n",
    "# Print the accuracies with 3 decimal places\n",
    "print(\"Accuracy for Euclidean algorithm: %.3f\" % accuEucl)\n",
    "print(\"Accuracy for Manhattan algorithm: %.3f\" % accuManh)\n",
    "\n",
    "# Print the prediction vectors\n",
    "print(\"\\nClass predictions for Euclidean:\\n\", predictEucl)\n",
    "print(\"\\nClass predictions for Manhattan:\\n\", predictManh)\n",
    "\n",
    "# Print the ground truth\n",
    "realClasses = np.array(data_test['Class'])\n",
    "print(\"\\nGround truth classes from Testing set:\\n\", realClasses)\n"
   ]
  }
 ],
 "metadata": {
  "kernelspec": {
   "display_name": "Python 3",
   "language": "python",
   "name": "python3"
  },
  "language_info": {
   "codemirror_mode": {
    "name": "ipython",
    "version": 3
   },
   "file_extension": ".py",
   "mimetype": "text/x-python",
   "name": "python",
   "nbconvert_exporter": "python",
   "pygments_lexer": "ipython3",
   "version": "3.6.9"
  }
 },
 "nbformat": 4,
 "nbformat_minor": 4
}
