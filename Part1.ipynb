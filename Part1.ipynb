{
 "cells": [
  {
   "cell_type": "markdown",
   "metadata": {},
   "source": [
    "# Part 1: Nearest Neighbour\n",
    "### By: Gokhan Arkan & Juan Diaz\n",
    "\n",
    "<br><br>\n",
    "This cell imports the required libraries and both testing and training data needed to work with"
   ]
  },
  {
   "cell_type": "code",
   "execution_count": 277,
   "metadata": {},
   "outputs": [],
   "source": [
    "import pandas as pd\n",
    "import numpy as np\n",
    "\n",
    "data_train = pd.read_csv('sonar_train.csv', header='infer')\n",
    "data_test = pd.read_csv('sonar_test.csv', header='infer')"
   ]
  },
  {
   "cell_type": "markdown",
   "metadata": {},
   "source": [
    "The following cell contains the two algorithms (Euclidean & Manhattan)<br><br>\n",
    "They both require:\n",
    "* Two vectors to be evaluated\n",
    "* The amount of attributes to considere, it is 60 by default (declared at the bottom of this notebook)"
   ]
  },
  {
   "cell_type": "code",
   "execution_count": 278,
   "metadata": {},
   "outputs": [],
   "source": [
    "# Function to return (float) euclidean distance \n",
    "def euclideanDistance(vector_1, vector_2, attr_length):\n",
    "    distance = 0.0\n",
    "\n",
    "    # Go through attributes in attr_length (60 attributes) and add the squares\n",
    "    for x in range(attr_length):\n",
    "        distance += (vector_1[x] - vector_2[x]) ** 2\n",
    "\n",
    "    # Square the distance before return\n",
    "    return np.sqrt(distance)\n",
    "\n",
    "\n",
    "# Function to return (float) manhattan distance\n",
    "def manhattanDistance(vector_1, vector_2, attr_length):\n",
    "    distance = 0.0\n",
    "\n",
    "    # Go through attributes in attr_length (60 attributes) and add the abs values\n",
    "    for x in range(attr_length):\n",
    "        distance += np.absolute(vector_1[x] - vector_2[x])\n",
    "\n",
    "    return distance"
   ]
  },
  {
   "cell_type": "markdown",
   "metadata": {},
   "source": [
    "This next cell contains the main function that mesuares all distances of the Training Set with a single Vector from the Testing Set.<br>\n",
    "It receives:<br>\n",
    "* Training Set\n",
    "* Testing vector\n",
    "* Algorithm type (Euclidean or Manhattan)\n",
    "* Attributes length (By default 60)\n",
    "\n",
    "It compares all distances and find the closest.\n",
    "The return is an array with: The closest vector, the distance value and index within the Training Set"
   ]
  },
  {
   "cell_type": "code",
   "execution_count": 279,
   "metadata": {},
   "outputs": [],
   "source": [
    "# Function to return an array in this form [(nearest neighbour vector), distance, index of the vector] \n",
    "def getNearestNeighbour(trainingSet, testingVector, algorithm, attr_length):\n",
    "\n",
    "    distances = []\n",
    "\n",
    "    # Calculate the distance of every vector in the training set\n",
    "    for i in range(len(trainingSet)):\n",
    "\n",
    "        # What algorithm to use (euclidean or manhattan)\n",
    "        if algorithm == 'euclidean':\n",
    "            dist = euclideanDistance(testingVector, trainingSet[i], attr_length)\n",
    "        else:\n",
    "            dist = manhattanDistance(testingVector, trainingSet[i], attr_length)\n",
    "\n",
    "        # Save the (set, the distance and the index) in distances array  \n",
    "        distances.append([trainingSet[i], dist, i])\n",
    "        \n",
    "    # Convert to NP vector and sort by index 1 (distance)\n",
    "    distances = np.array(distances)\n",
    "    dsorted = distances[np.argsort(distances[:, 1])]\n",
    "\n",
    "    # Return the first element which is the lowest in the sorted array\n",
    "    return dsorted[0]"
   ]
  },
  {
   "cell_type": "code",
   "execution_count": null,
   "metadata": {},
   "outputs": [],
   "source": []
  },
  {
   "cell_type": "code",
   "execution_count": 280,
   "metadata": {},
   "outputs": [],
   "source": [
    "# Function to return a vector of all predictions \n",
    "def myNN(trainSet, testSet, algorithm, attr_length):\n",
    "\n",
    "    allPredictions = []\n",
    "\n",
    "    # Go through each vector in the testing data\n",
    "    for i in range(len(testSet)):\n",
    "\n",
    "        # Find the nearest neighbour as [vector, distance (float), index]\n",
    "        nearestNeighbour = getNearestNeighbour(trainSet, testSet[i], algorithm, attr_length) \n",
    "        classfound = nearestNeighbour[0][-1]\n",
    "\n",
    "        # Save each prediction\n",
    "        allPredictions.append(classfound)\n",
    "\n",
    "    return np.array(allPredictions)"
   ]
  },
  {
   "cell_type": "code",
   "execution_count": null,
   "metadata": {},
   "outputs": [],
   "source": []
  },
  {
   "cell_type": "code",
   "execution_count": 281,
   "metadata": {},
   "outputs": [],
   "source": [
    "def getAccuracy(testset, predictions):\n",
    "    totalright = 0\n",
    "    \n",
    "    # Go through each record of the test data \n",
    "    for i in range(len(testset)):\n",
    "        \n",
    "        # Compare the class of the test data and the prediction for this record\n",
    "        if testset[i][-1] == predictions[i]:\n",
    "            totalright += 1\n",
    "        \n",
    "    # Return the accuracy as float \n",
    "    return (totalright/float(len(testset))) * 100"
   ]
  },
  {
   "cell_type": "code",
   "execution_count": null,
   "metadata": {},
   "outputs": [],
   "source": []
  },
  {
   "cell_type": "code",
   "execution_count": 282,
   "metadata": {},
   "outputs": [
    {
     "name": "stdout",
     "output_type": "stream",
     "text": [
      "Accuracy for Euclidean algorithm:  89.85507246376811\n",
      "Accuracy for Manhattan algorithm:  88.40579710144928\n",
      "\n",
      "Class predictions for Euclidean:\n",
      " ['R' 'M' 'M' 'R' 'R' 'M' 'M' 'M' 'M' 'M' 'R' 'R' 'R' 'R' 'M' 'M' 'M' 'R'\n",
      " 'M' 'M' 'M' 'R' 'R' 'R' 'R' 'M' 'R' 'R' 'M' 'M' 'M' 'M' 'M' 'R' 'M' 'M'\n",
      " 'M' 'M' 'M' 'R' 'R' 'M' 'M' 'M' 'M' 'R' 'R' 'M' 'R' 'R' 'M' 'R' 'R' 'M'\n",
      " 'M' 'R' 'M' 'R' 'M' 'M' 'R' 'M' 'M' 'R' 'M' 'M' 'M' 'M' 'M']\n",
      "\n",
      "Class predictions for Manhattan:\n",
      " ['R' 'M' 'M' 'R' 'R' 'M' 'M' 'M' 'M' 'M' 'R' 'R' 'R' 'R' 'M' 'M' 'M' 'R'\n",
      " 'M' 'M' 'M' 'R' 'R' 'R' 'R' 'M' 'R' 'R' 'M' 'M' 'M' 'M' 'M' 'R' 'M' 'M'\n",
      " 'M' 'M' 'M' 'R' 'R' 'M' 'M' 'M' 'R' 'R' 'R' 'M' 'R' 'R' 'M' 'R' 'M' 'M'\n",
      " 'M' 'R' 'M' 'R' 'M' 'R' 'M' 'M' 'M' 'R' 'M' 'M' 'M' 'M' 'R']\n",
      "\n",
      "Real classes from Testing Set:\n",
      " ['R' 'M' 'M' 'R' 'R' 'R' 'M' 'M' 'M' 'R' 'R' 'R' 'R' 'R' 'R' 'M' 'M' 'M'\n",
      " 'M' 'M' 'M' 'R' 'R' 'R' 'R' 'M' 'R' 'R' 'M' 'M' 'M' 'M' 'M' 'R' 'M' 'M'\n",
      " 'M' 'M' 'M' 'R' 'R' 'M' 'M' 'M' 'R' 'R' 'R' 'M' 'R' 'R' 'M' 'R' 'R' 'M'\n",
      " 'M' 'R' 'M' 'R' 'M' 'M' 'R' 'M' 'M' 'R' 'M' 'M' 'R' 'M' 'R']\n"
     ]
    }
   ],
   "source": [
    "# Convert the data from CVS to numpy arrays\n",
    "nparrtrain = np.array(data_train)\n",
    "nparrtest = np.array(data_test)\n",
    "\n",
    "# Get the predictions (arrays) for each algorithm\n",
    "predictEucl = myNN(nparrtrain, nparrtest, 'euclidean', 60)\n",
    "predictManh = myNN(nparrtrain, nparrtest, 'manhattan', 60)\n",
    "\n",
    "# Evaluate the accuracy of each prediction (by algorithm)\n",
    "accuEucl = getAccuracy(nparrtest, predictEucl)\n",
    "accuManh = getAccuracy(nparrtest, predictManh)\n",
    "\n",
    "# Print the accuracies\n",
    "print(\"Accuracy for Euclidean algorithm: \", accuEucl)\n",
    "print(\"Accuracy for Manhattan algorithm: \", accuManh)\n",
    "\n",
    "# Print the prediction vectors\n",
    "print(\"\\nClass predictions for Euclidean:\\n\", predictEucl)\n",
    "print(\"\\nClass predictions for Manhattan:\\n\", predictManh)\n",
    "\n",
    "# Print\n",
    "realClasses = np.array(data_test['Class'])\n",
    "print(\"\\nReal classes from Testing Set:\\n\", realClasses)\n"
   ]
  },
  {
   "cell_type": "code",
   "execution_count": null,
   "metadata": {},
   "outputs": [],
   "source": []
  }
 ],
 "metadata": {
  "kernelspec": {
   "display_name": "Python 3",
   "language": "python",
   "name": "python3"
  },
  "language_info": {
   "codemirror_mode": {
    "name": "ipython",
    "version": 3
   },
   "file_extension": ".py",
   "mimetype": "text/x-python",
   "name": "python",
   "nbconvert_exporter": "python",
   "pygments_lexer": "ipython3",
   "version": "3.6.9"
  }
 },
 "nbformat": 4,
 "nbformat_minor": 4
}
