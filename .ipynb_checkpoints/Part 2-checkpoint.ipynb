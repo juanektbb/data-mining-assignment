{
 "cells": [
  {
   "cell_type": "code",
   "execution_count": null,
   "metadata": {},
   "outputs": [],
   "source": [
    "# The cell below imports the relevant libraries and read the data from the specified files"
   ]
  },
  {
   "cell_type": "code",
   "execution_count": null,
   "metadata": {},
   "outputs": [],
   "source": [
    "import pandas as pd\n",
    "import numpy as np\n",
    "\n",
    "train_data = pd.read_csv('creditdefault_train.csv', header='infer')\n",
    "test_data = pd.read_csv('creditdefault_test.csv', header='infer')\n",
    "\n",
    "# question to juan, do we need pd.head() here ?"
   ]
  },
  {
   "cell_type": "code",
   "execution_count": null,
   "metadata": {},
   "outputs": [],
   "source": [
    "'''\n",
    "Using Python and any relevant libraries,\n",
    "you are required to build the best predictive model\n",
    "by tuning models using cross validation on the training dataset\n",
    "with each of the following algorithms (seen in class):\n",
    "kNN, decision trees, Random Forest, Bagging, Boosting, and SVM.\n",
    "'''"
   ]
  },
  {
   "cell_type": "code",
   "execution_count": null,
   "metadata": {},
   "outputs": [],
   "source": [
    "# Importing other Machine Learning libraries"
   ]
  },
  {
   "cell_type": "code",
   "execution_count": null,
   "metadata": {},
   "outputs": [],
   "source": [
    "prediction_values = {}\n",
    "\n",
    "\n",
    "# knn\n",
    "from sklearn.neighbors import KNeighborsClassifier\n",
    "knn = KNeighborsClassifier(n_neighbors = 1)\n",
    "knn.fit(train_data, test_data)\n",
    "# will be used knn.predict() function here\n",
    "### prediction_values['knn'] = knn_prediction\n",
    "\n",
    "\n",
    "# decision tree\n",
    "from sklearn.tree import DecisionTreeClassifier\n",
    "clf = DecisionTreeClassifier()\n",
    "# I'll use fit and predict functions here\n",
    "### prediction_values['decision_tree'] = decision_tree_prediction\n",
    "\n",
    "\n",
    "# random forest\n",
    "from sklearn.ensemble import RandomForestRegressor\n",
    "rf = RandomForestRegressor(n_estimators = 1000, random_state = 42)\n",
    "rf.fit(x, y) # x is features and y is the label\n",
    "# to get the predictions we use\n",
    "prediction = rf.predict(arg) # where arg1 is the test features\n",
    "# Calculate mean absolute percentage error (MAPE)\n",
    "mape = 100 * (errors / test_labels)# Calculate and display accuracy\n",
    "accuracy = 100 - np.mean(mape)\n",
    "print('Accuracy:', round(accuracy, 2), '%.')\n",
    "### prediction_values['random_forest'] = random_forest_prediction\n",
    "\n",
    "\n",
    "# bagging\n",
    "from sklearn.ensemble import BaggingClassifier\n",
    "### prediction_values['bagging'] = bagging_prediction\n",
    "\n",
    "\n",
    "# boosting\n",
    "from sklearn.ensemble import AdaBoostClassifier\n",
    "from sklearn.metrics import confusion_matrix\n",
    "classifier = AdaBoostClassifier(\n",
    "    DecisionTreeClassifier(max_depth=1),\n",
    "    n_estimators=200\n",
    ")\n",
    "classifier.fit(train_X, train_y)\n",
    "predictions = classifier.predict(test_X)\n",
    "confusion_matrix(test_y, predictions)\n",
    "### prediction_values['boosting'] = boosting_prediction\n",
    "\n",
    "\n",
    "# SVM\n",
    "from sklearn import svm\n",
    "#Create a svm Classifier\n",
    "clf = svm.SVC(kernel='linear') # Linear Kernel\n",
    "#Train the model using the training sets\n",
    "clf.fit(X_train, y_train)\n",
    "#Predict the response for test dataset\n",
    "y_pred = clf.predict(X_test)\n",
    "### prediction_values['svm'] = svm_prediction\n",
    "\n",
    "\n",
    "best_value = get_best(prediction_values)\n"
   ]
  },
  {
   "cell_type": "code",
   "execution_count": null,
   "metadata": {},
   "outputs": [],
   "source": [
    "'''\n",
    "Out of the models tuned with the above algorithms,\n",
    "select the best model and clearly justify your choice,\n",
    "and evaluate its performance on the test set. \n",
    "'''"
   ]
  },
  {
   "cell_type": "code",
   "execution_count": null,
   "metadata": {},
   "outputs": [],
   "source": [
    "# This library will work for accuracy calculation"
   ]
  },
  {
   "cell_type": "code",
   "execution_count": null,
   "metadata": {},
   "outputs": [],
   "source": [
    "from sklearn import metrics\n",
    "#metrics.accuracy_score() is the function needed. y_test and y_pred are the arguments we'll use\n",
    "\n",
    "\n",
    "def get_best(prediction_values):\n",
    "    # for loop\n",
    "    best_value = -1\n",
    "    return best_value\n"
   ]
  }
 ],
 "metadata": {
  "kernelspec": {
   "display_name": "Python 3",
   "language": "python",
   "name": "python3"
  },
  "language_info": {
   "codemirror_mode": {
    "name": "ipython",
    "version": 3
   },
   "file_extension": ".py",
   "mimetype": "text/x-python",
   "name": "python",
   "nbconvert_exporter": "python",
   "pygments_lexer": "ipython3",
   "version": "3.7.4"
  }
 },
 "nbformat": 4,
 "nbformat_minor": 4
}
