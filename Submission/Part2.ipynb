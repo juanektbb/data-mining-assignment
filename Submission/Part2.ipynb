{
 "cells": [
  {
   "cell_type": "markdown",
   "metadata": {
    "colab": {},
    "colab_type": "code",
    "id": "_B2I27R-CVC5"
   },
   "source": [
    "# Part 2: Real credit risk data\n",
    "### By: Gokhan Arkan & Juan Diaz\n",
    "\n",
    "The cell below imports the required libraries and both testing and training data needed for the models."
   ]
  },
  {
   "cell_type": "code",
   "execution_count": 9,
   "metadata": {
    "colab": {
     "base_uri": "https://localhost:8080/",
     "height": 405
    },
    "colab_type": "code",
    "id": "ypB7YYhSQ02_",
    "outputId": "d57ce10d-caa7-4f3c-88e4-b615e9cfdcc5"
   },
   "outputs": [],
   "source": [
    "import pandas as pd\n",
    "import numpy as np\n",
    "import matplotlib.pyplot as plt\n",
    "%matplotlib inline\n",
    "\n",
    "from sklearn.metrics import accuracy_score, precision_score, recall_score, confusion_matrix, precision_recall_curve\n",
    "\n",
    "train_data = pd.read_csv('creditdefault_train.csv', header='infer')\n",
    "test_data = pd.read_csv('creditdefault_test.csv', header='infer')"
   ]
  },
  {
   "cell_type": "markdown",
   "metadata": {},
   "source": [
    "#### Preparation of dummy data\n",
    "\n",
    "Some features of the training and testing sets are treated as numerical features, but they are categorical. For example, the education field (X3) has range 1 - 4, but each value can be a separate binary feature.\n"
   ]
  },
  {
   "cell_type": "code",
   "execution_count": 10,
   "metadata": {
    "colab": {},
    "colab_type": "code",
    "id": "YqZwEnH0CVDG"
   },
   "outputs": [],
   "source": [
    "'''\n",
    "  DATA PREPARATION MAIN FUNCTION\n",
    "  This function works for both Training and Testing data as they both have the same features\n",
    "  It requires the set to be prepare and returns the final set\n",
    "'''\n",
    "def data_preparation(dataset):\n",
    "\n",
    "  # X3: Education field is divided in 3 binary features, last one is implicit when all three features are equal to 0\n",
    "  dataset['graduated'] = (dataset['X3'] == 1).astype('int')\n",
    "  dataset['university'] = (dataset['X3'] == 2).astype('int')\n",
    "  dataset['high_school'] = (dataset['X3'] == 3).astype('int')\n",
    "  dataset.drop('X3', axis=1, inplace=True)\n",
    "\n",
    "  # X2: Gender field is binary as well. Male = 1 and Female = 0\n",
    "  dataset['male'] = (dataset['X2'] == 1).astype('int')\n",
    "  dataset.drop('X2', axis=1, inplace=True)\n",
    "\n",
    "  # X4: Married field is also binary. Married = 1 and Single = 0\n",
    "  dataset['married'] = (dataset['X4'] == 1).astype('int')\n",
    "  dataset.drop('X4', axis=1, inplace=True)\n",
    "\n",
    "  # X6 - X11: History of past payments. All values less than 0 are converted to 0 meaning they are not delayed on payments\n",
    "  are_paid = ['X6', 'X7', 'X8', 'X9', 'X10', 'X11']\n",
    "  for column in are_paid:\n",
    "    dataset.loc[dataset[column] <= 0, column] = 0\n",
    "\n",
    "  # Return the modified dataset\n",
    "  return dataset\n",
    "\n",
    "\n",
    "# Call for preparation of the data using the main function\n",
    "train_data = data_preparation(train_data)\n",
    "test_data = data_preparation(test_data)\n",
    "\n",
    "\n",
    "# Separate classes from dataset for training and testing\n",
    "y_train = train_data['Y']\n",
    "X_train = train_data.drop(['Y'],axis=1)\n",
    "\n",
    "y_test = test_data['Y']\n",
    "X_test = test_data.drop(['Y'],axis=1)\n",
    "\n",
    "\n",
    "'''\n",
    "  Use RobustScaler preprocessor to convert the data to the same scale \n",
    "  as certain features like `age` have a larger scale.\n",
    "'''\n",
    "from sklearn.preprocessing import RobustScaler\n",
    "\n",
    "X_train = RobustScaler().fit_transform(X_train)\n",
    "X_test = RobustScaler().fit_transform(X_test)"
   ]
  },
  {
   "cell_type": "markdown",
   "metadata": {},
   "source": [
    "#### Cross Validation\n",
    "\n",
    "It evaluates all six algorithms using cross validation and plot them in a table to analize their accuracy and standard deviation."
   ]
  },
  {
   "cell_type": "code",
   "execution_count": 11,
   "metadata": {
    "colab": {},
    "colab_type": "code",
    "id": "pRwF3K91wwuq"
   },
   "outputs": [
    {
     "data": {
      "text/html": [
       "<div>\n",
       "<style scoped>\n",
       "    .dataframe tbody tr th:only-of-type {\n",
       "        vertical-align: middle;\n",
       "    }\n",
       "\n",
       "    .dataframe tbody tr th {\n",
       "        vertical-align: top;\n",
       "    }\n",
       "\n",
       "    .dataframe thead th {\n",
       "        text-align: right;\n",
       "    }\n",
       "</style>\n",
       "<table border=\"1\" class=\"dataframe\">\n",
       "  <thead>\n",
       "    <tr style=\"text-align: right;\">\n",
       "      <th></th>\n",
       "      <th>KNN</th>\n",
       "      <th>Decision Tree</th>\n",
       "      <th>Bagging Accuracy</th>\n",
       "      <th>Ada Boost</th>\n",
       "      <th>Random Forest</th>\n",
       "      <th>SVC</th>\n",
       "    </tr>\n",
       "  </thead>\n",
       "  <tbody>\n",
       "    <tr>\n",
       "      <th>Accuracy</th>\n",
       "      <td>0.791733</td>\n",
       "      <td>0.728200</td>\n",
       "      <td>0.807333</td>\n",
       "      <td>0.818467</td>\n",
       "      <td>0.815933</td>\n",
       "      <td>0.816133</td>\n",
       "    </tr>\n",
       "    <tr>\n",
       "      <th>Standard Deviation</th>\n",
       "      <td>0.013289</td>\n",
       "      <td>0.016114</td>\n",
       "      <td>0.017430</td>\n",
       "      <td>0.017495</td>\n",
       "      <td>0.018825</td>\n",
       "      <td>0.013918</td>\n",
       "    </tr>\n",
       "  </tbody>\n",
       "</table>\n",
       "</div>"
      ],
      "text/plain": [
       "                         KNN  Decision Tree  Bagging Accuracy  Ada Boost  \\\n",
       "Accuracy            0.791733       0.728200          0.807333   0.818467   \n",
       "Standard Deviation  0.013289       0.016114          0.017430   0.017495   \n",
       "\n",
       "                    Random Forest       SVC  \n",
       "Accuracy                 0.815933  0.816133  \n",
       "Standard Deviation       0.018825  0.013918  "
      ]
     },
     "execution_count": 11,
     "metadata": {},
     "output_type": "execute_result"
    }
   ],
   "source": [
    "from sklearn.model_selection import cross_validate\n",
    "\n",
    "from sklearn.neighbors import KNeighborsClassifier\n",
    "from sklearn.tree import DecisionTreeClassifier\n",
    "from sklearn.ensemble import BaggingClassifier\n",
    "from sklearn.ensemble import AdaBoostClassifier\n",
    "from sklearn.ensemble import RandomForestClassifier\n",
    "from sklearn.svm import SVC\n",
    "\n",
    "# Prepare the data frame for visualizing the cross validation\n",
    "crossvalidator = pd.DataFrame(index=['Accuracy', 'Standard Deviation'], columns=[])\n",
    "\n",
    "# Function to populate the evaluation of each model\n",
    "def eval_crossval(model_name, crossval):\n",
    "  crossvalidator.loc['Accuracy', model_name] = crossval['test_score'].mean()\n",
    "  crossvalidator.loc['Standard Deviation', model_name] = crossval['test_score'].std() * 2\n",
    "\n",
    "\n",
    "# Compute cross validation for KNN\n",
    "knn = KNeighborsClassifier()\n",
    "crossknn = cross_validate(knn, X_train, y_train, cv=5)\n",
    "eval_crossval(\"KNN\", crossknn)\n",
    "\n",
    "# Compute cross validation for Decision Tree\n",
    "dtc = DecisionTreeClassifier()\n",
    "crossdtc = cross_validate(dtc, X_train, y_train, cv=5)\n",
    "eval_crossval(\"Decision Tree\", crossdtc)\n",
    "\n",
    "# Compute cross validation for Bagging Accuracy\n",
    "bag = BaggingClassifier()\n",
    "crossbag = cross_validate(bag, X_train, y_train, cv=5)\n",
    "eval_crossval(\"Bagging Accuracy\", crossbag)\n",
    "\n",
    "# Compute cross validation for Ada Boost\n",
    "abc = AdaBoostClassifier()\n",
    "crossabc = cross_validate(abc, X_train, y_train, cv=5)\n",
    "eval_crossval(\"Ada Boost\", crossabc)\n",
    "\n",
    "# Compute cross validation for Random Forest\n",
    "rfc = RandomForestClassifier()\n",
    "crossrfc = cross_validate(rfc, X_train, y_train, cv=5)\n",
    "eval_crossval(\"Random Forest\", crossrfc)\n",
    "\n",
    "# Compute cross validation for SVC\n",
    "svc = SVC()\n",
    "crosssvc = cross_validate(svc, X_train, y_train, cv=5)\n",
    "eval_crossval(\"SVC\", crosssvc)\n",
    "\n",
    "\n",
    "# Display table of cross validation\n",
    "crossvalidator"
   ]
  },
  {
   "cell_type": "markdown",
   "metadata": {},
   "source": [
    "#### Cross Validation analysis\n",
    "\n",
    "According to the cross-validation table above, the algorithm with higher performance is Ada Boost. However, all the other algorithms are very close to it, except the Decision Tree. Since AdaBoost and Bagging use an implementation of Decision Trees in the first place, it gives a better precision for the data. In the end, these two ensemble algorithms worked better than the other ones. On the other hand, although SVC gave accurate prediction, since the nature of the algorithm, we expect more computation time compared to the other algorithms."
   ]
  },
  {
   "cell_type": "markdown",
   "metadata": {},
   "source": [
    "#### Helper functions for visualizing data\n",
    "They will be use several times for plotting graphs or displaying tables."
   ]
  },
  {
   "cell_type": "code",
   "execution_count": 14,
   "metadata": {
    "colab": {},
    "colab_type": "code",
    "id": "bTbIhQnYREtd"
   },
   "outputs": [],
   "source": [
    "# Prepare the data frame for visualizing the final models evaluations\n",
    "evaluator = pd.DataFrame(index=['Accuracy', 'Precision', 'Recall'], columns=[])\n",
    "\n",
    "\n",
    "# Function to populate the evaluation of each model \n",
    "def eval_module(model_name, y_truth, y_pred):\n",
    "  evaluator.loc['Accuracy', model_name] = accuracy_score(y_truth, y_pred)\n",
    "  evaluator.loc['Precision', model_name] = precision_score(y_truth, y_pred)\n",
    "  evaluator.loc['Recall', model_name] = recall_score(y_truth, y_pred)\n",
    "\n",
    "\n",
    "# Function to visualize the evaluation of all models\n",
    "def visual_evaluation(evaluation):\n",
    "  fig, ax = plt.subplots(figsize=(8,5))\n",
    "  evaluation.plot(kind='barh', ax=ax)\n",
    "  ax.grid()\n",
    "\n",
    "\n",
    "# Function to print the confusion matrix of a given module\n",
    "def print_conf_matrix(cm):\n",
    "  labels = ['Payers', 'Defaulters']\n",
    "  conf = pd.DataFrame(data=cm, index=labels, columns=labels)\n",
    "  conf.index.name = \"TRUE\"\n",
    "  conf.columns.name = \"PREDICTION\"\n",
    "  conf.loc['Total'] = conf.sum()\n",
    "  conf['Total'] = conf.sum(axis=1)\n",
    "  return conf"
   ]
  },
  {
   "cell_type": "markdown",
   "metadata": {},
   "source": [
    "#### Helper functions for manipulating data\n",
    "The functions here are used for calculations in the code of certain models."
   ]
  },
  {
   "cell_type": "code",
   "execution_count": 15,
   "metadata": {},
   "outputs": [],
   "source": [
    "# This function takes a dictionary with indexes and accuracies and finds the highest and returns it. Use for KNN, Adaboost and Bagging\n",
    "def find_best_param(accuracy_dict):\n",
    "    largest, index = 0, 0\n",
    "\n",
    "    # Loop the dictionary\n",
    "    for i in accuracy_dict:\n",
    "\n",
    "        # This iteration is higher than previous ones\n",
    "        if largest < accuracy_dict[i]:\n",
    "            largest = accuracy_dict[i]\n",
    "            index = i\n",
    "            \n",
    "    # Return index and its best accuracy\n",
    "    return (index, largest)"
   ]
  },
  {
   "cell_type": "markdown",
   "metadata": {},
   "source": [
    "### KNN Classifier algorithm\n",
    "This implementation finds the best K in a range of 1 to 9, store their performance and print the confusion matrix of the model."
   ]
  },
  {
   "cell_type": "code",
   "execution_count": 16,
   "metadata": {
    "colab": {
     "base_uri": "https://localhost:8080/",
     "height": 36
    },
    "colab_type": "code",
    "id": "zWHIW3vGCVDY",
    "outputId": "99fcb961-827c-477b-dc1d-d5f36aae44ec"
   },
   "outputs": [
    {
     "name": "stdout",
     "output_type": "stream",
     "text": [
      "Best accuracy at K = 9 of 0.806\n"
     ]
    },
    {
     "data": {
      "text/html": [
       "<div>\n",
       "<style scoped>\n",
       "    .dataframe tbody tr th:only-of-type {\n",
       "        vertical-align: middle;\n",
       "    }\n",
       "\n",
       "    .dataframe tbody tr th {\n",
       "        vertical-align: top;\n",
       "    }\n",
       "\n",
       "    .dataframe thead th {\n",
       "        text-align: right;\n",
       "    }\n",
       "</style>\n",
       "<table border=\"1\" class=\"dataframe\">\n",
       "  <thead>\n",
       "    <tr style=\"text-align: right;\">\n",
       "      <th>PREDICTION</th>\n",
       "      <th>Payers</th>\n",
       "      <th>Defaulters</th>\n",
       "      <th>Total</th>\n",
       "    </tr>\n",
       "    <tr>\n",
       "      <th>TRUE</th>\n",
       "      <th></th>\n",
       "      <th></th>\n",
       "      <th></th>\n",
       "    </tr>\n",
       "  </thead>\n",
       "  <tbody>\n",
       "    <tr>\n",
       "      <th>Payers</th>\n",
       "      <td>10987</td>\n",
       "      <td>695</td>\n",
       "      <td>11682</td>\n",
       "    </tr>\n",
       "    <tr>\n",
       "      <th>Defaulters</th>\n",
       "      <td>2213</td>\n",
       "      <td>1105</td>\n",
       "      <td>3318</td>\n",
       "    </tr>\n",
       "    <tr>\n",
       "      <th>Total</th>\n",
       "      <td>13200</td>\n",
       "      <td>1800</td>\n",
       "      <td>15000</td>\n",
       "    </tr>\n",
       "  </tbody>\n",
       "</table>\n",
       "</div>"
      ],
      "text/plain": [
       "PREDICTION  Payers  Defaulters  Total\n",
       "TRUE                                 \n",
       "Payers       10987         695  11682\n",
       "Defaulters    2213        1105   3318\n",
       "Total        13200        1800  15000"
      ]
     },
     "execution_count": 16,
     "metadata": {},
     "output_type": "execute_result"
    }
   ],
   "source": [
    "# KNN for K = 1 to 9\n",
    "from sklearn.neighbors import KNeighborsClassifier\n",
    "\n",
    "scores_knn = {}\n",
    "total_k = 9 # Calculate distances for K = 1 to 9\n",
    "\n",
    "# Train data K times\n",
    "for k in range(1, total_k + 1):\n",
    "\n",
    "    # Initialize KNN for k neighbors\n",
    "    knn = KNeighborsClassifier(n_neighbors = k)\n",
    "    knn.fit(X_train, y_train)\n",
    "\n",
    "    # Predict classes and store the accuracy \n",
    "    y_pred = knn.predict(X_test)\n",
    "    scores_knn[k] = accuracy_score(y_test, y_pred)\n",
    "\n",
    "# Find the best K using the helper function\n",
    "best_k = find_best_param(scores_knn)\n",
    "\n",
    "print('Best accuracy at K =', best_k[0], 'of %.3f' % best_k[1])  \n",
    "\n",
    "# Compute the final KNN with the best K achieved\n",
    "knn_best_k = KNeighborsClassifier(n_neighbors = best_k[0])\n",
    "knn_best_k.fit(X_train, y_train)\n",
    "\n",
    "# Best predictor found\n",
    "y_pred_best = knn_best_k.predict(X_test)\n",
    "\n",
    "# Evaluation of this module\n",
    "eval_module(\"KNN\", y_test, y_pred_best)\n",
    "\n",
    "# Print the confusion matrix of this model\n",
    "con_matrix = confusion_matrix(y_test, y_pred)\n",
    "print_conf_matrix(con_matrix)"
   ]
  },
  {
   "cell_type": "markdown",
   "metadata": {},
   "source": [
    "### Decision Tree Classifier algorithm\n",
    "This implementation computes and print the confusion matrix of Decision Tree."
   ]
  },
  {
   "cell_type": "code",
   "execution_count": 17,
   "metadata": {
    "colab": {
     "base_uri": "https://localhost:8080/",
     "height": 175
    },
    "colab_type": "code",
    "id": "recN3FILCVDf",
    "outputId": "2f456c45-4f24-4395-cf99-ce8b679bb600"
   },
   "outputs": [
    {
     "data": {
      "text/html": [
       "<div>\n",
       "<style scoped>\n",
       "    .dataframe tbody tr th:only-of-type {\n",
       "        vertical-align: middle;\n",
       "    }\n",
       "\n",
       "    .dataframe tbody tr th {\n",
       "        vertical-align: top;\n",
       "    }\n",
       "\n",
       "    .dataframe thead th {\n",
       "        text-align: right;\n",
       "    }\n",
       "</style>\n",
       "<table border=\"1\" class=\"dataframe\">\n",
       "  <thead>\n",
       "    <tr style=\"text-align: right;\">\n",
       "      <th>PREDICTION</th>\n",
       "      <th>Payers</th>\n",
       "      <th>Defaulters</th>\n",
       "      <th>Total</th>\n",
       "    </tr>\n",
       "    <tr>\n",
       "      <th>TRUE</th>\n",
       "      <th></th>\n",
       "      <th></th>\n",
       "      <th></th>\n",
       "    </tr>\n",
       "  </thead>\n",
       "  <tbody>\n",
       "    <tr>\n",
       "      <th>Payers</th>\n",
       "      <td>10604</td>\n",
       "      <td>1078</td>\n",
       "      <td>11682</td>\n",
       "    </tr>\n",
       "    <tr>\n",
       "      <th>Defaulters</th>\n",
       "      <td>2255</td>\n",
       "      <td>1063</td>\n",
       "      <td>3318</td>\n",
       "    </tr>\n",
       "    <tr>\n",
       "      <th>Total</th>\n",
       "      <td>12859</td>\n",
       "      <td>2141</td>\n",
       "      <td>15000</td>\n",
       "    </tr>\n",
       "  </tbody>\n",
       "</table>\n",
       "</div>"
      ],
      "text/plain": [
       "PREDICTION  Payers  Defaulters  Total\n",
       "TRUE                                 \n",
       "Payers       10604        1078  11682\n",
       "Defaulters    2255        1063   3318\n",
       "Total        12859        2141  15000"
      ]
     },
     "execution_count": 17,
     "metadata": {},
     "output_type": "execute_result"
    }
   ],
   "source": [
    "# Decision Tree\n",
    "from sklearn.tree import DecisionTreeClassifier\n",
    "\n",
    "# clf = DecisionTreeClassifier(criterion='entropy', max_depth=3)\n",
    "clf = DecisionTreeClassifier(min_samples_split=30, min_samples_leaf=10, random_state=10)\n",
    "clf = clf.fit(X_train, y_train)\n",
    "\n",
    "y_pred = clf.predict(X_test)\n",
    "\n",
    "# Evaluation of this module\n",
    "eval_module(\"DecisionTree\", y_test, y_pred)\n",
    "\n",
    "# Print the confusion matrix of this model\n",
    "con_matrix = confusion_matrix(y_test, y_pred)\n",
    "print_conf_matrix(con_matrix)"
   ]
  },
  {
   "cell_type": "markdown",
   "metadata": {},
   "source": [
    "### Random Forest Classifier\n",
    "This implementation uses the Random Forest algorithm fitting with 500 base classifiers, sends the prediction accuracy to the evaluation methods and print the confusion matrix."
   ]
  },
  {
   "cell_type": "code",
   "execution_count": 14,
   "metadata": {
    "colab": {
     "base_uri": "https://localhost:8080/",
     "height": 175
    },
    "colab_type": "code",
    "id": "0seU1IM27L4O",
    "outputId": "5fc3b0c4-325b-4aa0-ccb8-56bca22e366b"
   },
   "outputs": [
    {
     "data": {
      "text/html": [
       "<div>\n",
       "<style scoped>\n",
       "    .dataframe tbody tr th:only-of-type {\n",
       "        vertical-align: middle;\n",
       "    }\n",
       "\n",
       "    .dataframe tbody tr th {\n",
       "        vertical-align: top;\n",
       "    }\n",
       "\n",
       "    .dataframe thead th {\n",
       "        text-align: right;\n",
       "    }\n",
       "</style>\n",
       "<table border=\"1\" class=\"dataframe\">\n",
       "  <thead>\n",
       "    <tr style=\"text-align: right;\">\n",
       "      <th>PREDICTION</th>\n",
       "      <th>Payers</th>\n",
       "      <th>Defaulters</th>\n",
       "      <th>Total</th>\n",
       "    </tr>\n",
       "    <tr>\n",
       "      <th>TRUE</th>\n",
       "      <th></th>\n",
       "      <th></th>\n",
       "      <th></th>\n",
       "    </tr>\n",
       "  </thead>\n",
       "  <tbody>\n",
       "    <tr>\n",
       "      <th>Payers</th>\n",
       "      <td>11086</td>\n",
       "      <td>596</td>\n",
       "      <td>11682</td>\n",
       "    </tr>\n",
       "    <tr>\n",
       "      <th>Defaulters</th>\n",
       "      <td>2163</td>\n",
       "      <td>1155</td>\n",
       "      <td>3318</td>\n",
       "    </tr>\n",
       "    <tr>\n",
       "      <th>Total</th>\n",
       "      <td>13249</td>\n",
       "      <td>1751</td>\n",
       "      <td>15000</td>\n",
       "    </tr>\n",
       "  </tbody>\n",
       "</table>\n",
       "</div>"
      ],
      "text/plain": [
       "PREDICTION  Payers  Defaulters  Total\n",
       "TRUE                                 \n",
       "Payers       11086         596  11682\n",
       "Defaulters    2163        1155   3318\n",
       "Total        13249        1751  15000"
      ]
     },
     "execution_count": 14,
     "metadata": {},
     "output_type": "execute_result"
    }
   ],
   "source": [
    "# Random Forest\n",
    "\n",
    "from sklearn.ensemble import RandomForestClassifier\n",
    "\n",
    "# 500 base classifiers fit to the 2-dimensional dataset\n",
    "numBaseClassifiers = 500\n",
    "\n",
    "# Initialize the Random Forest Classfier and fit the data to the model\n",
    "rf = RandomForestClassifier(n_estimators=numBaseClassifiers)\n",
    "rf.fit(X_train, y_train)\n",
    "\n",
    "# Predict classes and store the accuracy \n",
    "y_pred = rf.predict(X_test)\n",
    "\n",
    "# Evaluation of this model\n",
    "eval_module(\"Random Forest\", y_test, y_pred)\n",
    "\n",
    "# Print the confusion matrix of this model\n",
    "con_matrix = confusion_matrix(y_test, y_pred)\n",
    "print_conf_matrix(con_matrix)\n"
   ]
  },
  {
   "cell_type": "markdown",
   "metadata": {},
   "source": [
    "### Bagging Classifier\n",
    "This implementation uses the Bagging algorithm along with Decision Trees, fitting with 500 base classifiers. It also iterates a list of max depth values and gets the best one. With the best picked depth, the model recalculates and sends the prediction data to evaluation. At the end it prints the confusion matrix."
   ]
  },
  {
   "cell_type": "code",
   "execution_count": 15,
   "metadata": {
    "colab": {},
    "colab_type": "code",
    "id": "on_434I2-ALG"
   },
   "outputs": [
    {
     "name": "stdout",
     "output_type": "stream",
     "text": [
      "Best depth is at = 8 of 0.818\n"
     ]
    },
    {
     "data": {
      "text/html": [
       "<div>\n",
       "<style scoped>\n",
       "    .dataframe tbody tr th:only-of-type {\n",
       "        vertical-align: middle;\n",
       "    }\n",
       "\n",
       "    .dataframe tbody tr th {\n",
       "        vertical-align: top;\n",
       "    }\n",
       "\n",
       "    .dataframe thead th {\n",
       "        text-align: right;\n",
       "    }\n",
       "</style>\n",
       "<table border=\"1\" class=\"dataframe\">\n",
       "  <thead>\n",
       "    <tr style=\"text-align: right;\">\n",
       "      <th>PREDICTION</th>\n",
       "      <th>Payers</th>\n",
       "      <th>Defaulters</th>\n",
       "      <th>Total</th>\n",
       "    </tr>\n",
       "    <tr>\n",
       "      <th>TRUE</th>\n",
       "      <th></th>\n",
       "      <th></th>\n",
       "      <th></th>\n",
       "    </tr>\n",
       "  </thead>\n",
       "  <tbody>\n",
       "    <tr>\n",
       "      <th>Payers</th>\n",
       "      <td>11119</td>\n",
       "      <td>563</td>\n",
       "      <td>11682</td>\n",
       "    </tr>\n",
       "    <tr>\n",
       "      <th>Defaulters</th>\n",
       "      <td>2172</td>\n",
       "      <td>1146</td>\n",
       "      <td>3318</td>\n",
       "    </tr>\n",
       "    <tr>\n",
       "      <th>Total</th>\n",
       "      <td>13291</td>\n",
       "      <td>1709</td>\n",
       "      <td>15000</td>\n",
       "    </tr>\n",
       "  </tbody>\n",
       "</table>\n",
       "</div>"
      ],
      "text/plain": [
       "PREDICTION  Payers  Defaulters  Total\n",
       "TRUE                                 \n",
       "Payers       11119         563  11682\n",
       "Defaulters    2172        1146   3318\n",
       "Total        13291        1709  15000"
      ]
     },
     "execution_count": 15,
     "metadata": {},
     "output_type": "execute_result"
    }
   ],
   "source": [
    "# Bagging\n",
    "\n",
    "from sklearn.ensemble import BaggingClassifier\n",
    "from sklearn.tree import DecisionTreeClassifier\n",
    "\n",
    "# 500 base classifiers fit to the 2-dimensional dataset\n",
    "numBaseClassifiers = 500\n",
    "\n",
    "# Checking different sizes of max depth\n",
    "maxdepths = [2,3,4,5,6,7,8,9,10,15,20,25,30,35,40,45,50]\n",
    "\n",
    "# Keeping the individual max depth scores in a dictionary to get best one\n",
    "scores_bagging = {}\n",
    "\n",
    "for depth in maxdepths:\n",
    "\n",
    "  # Initialize the Bagging Classifier and fit the data to the model\n",
    "  bg = BaggingClassifier(DecisionTreeClassifier(max_depth=depth),n_estimators=numBaseClassifiers)\n",
    "  bg.fit(X_train, y_train)\n",
    "\n",
    "  # Predict classes and store the accuracy\n",
    "  y_pred = bg.predict(X_test)\n",
    "\n",
    "  # Putting the accuracy score to the dictionary\n",
    "  scores_bagging[depth] = accuracy_score(y_test, y_pred)\n",
    "\n",
    "best_depth = find_best_param(scores_bagging)\n",
    "bagging_best_depth = BaggingClassifier(DecisionTreeClassifier(max_depth=best_depth[0]),n_estimators=numBaseClassifiers)\n",
    "\n",
    "bagging_best_depth.fit(X_train, y_train)\n",
    "y_pred_best = bagging_best_depth.predict(X_test)\n",
    "\n",
    "# Evaluation of this model\n",
    "eval_module(\"Bagging\", y_test, y_pred_best)\n",
    "\n",
    "print('Best depth is at =', best_depth[0], 'of %.3f' % best_depth[1])\n",
    "\n",
    "# Print the confusion matrix of this model\n",
    "con_matrix = confusion_matrix(y_test, y_pred)\n",
    "print_conf_matrix(con_matrix)"
   ]
  },
  {
   "cell_type": "markdown",
   "metadata": {},
   "source": [
    "### AdaBoost Classifier\n",
    "This implementation uses the AdaBoost algorithm along with Decision Trees, fitting with 500 base classifiers. It also iterates a list of max depth values and gets the best one. With the best picked depth, the model recalculates and sends the prediction data to evaluation. At the end it prints the confusion matrix."
   ]
  },
  {
   "cell_type": "code",
   "execution_count": 18,
   "metadata": {
    "colab": {
     "base_uri": "https://localhost:8080/",
     "height": 430
    },
    "colab_type": "code",
    "id": "vrzgsY7sCVDu",
    "outputId": "5bc57adf-d1e4-4483-b0b3-ed1900987813"
   },
   "outputs": [
    {
     "name": "stdout",
     "output_type": "stream",
     "text": [
      "Best depth is at = 10 of 0.794\n"
     ]
    },
    {
     "data": {
      "text/html": [
       "<div>\n",
       "<style scoped>\n",
       "    .dataframe tbody tr th:only-of-type {\n",
       "        vertical-align: middle;\n",
       "    }\n",
       "\n",
       "    .dataframe tbody tr th {\n",
       "        vertical-align: top;\n",
       "    }\n",
       "\n",
       "    .dataframe thead th {\n",
       "        text-align: right;\n",
       "    }\n",
       "</style>\n",
       "<table border=\"1\" class=\"dataframe\">\n",
       "  <thead>\n",
       "    <tr style=\"text-align: right;\">\n",
       "      <th>PREDICTION</th>\n",
       "      <th>Payers</th>\n",
       "      <th>Defaulters</th>\n",
       "      <th>Total</th>\n",
       "    </tr>\n",
       "    <tr>\n",
       "      <th>TRUE</th>\n",
       "      <th></th>\n",
       "      <th></th>\n",
       "      <th></th>\n",
       "    </tr>\n",
       "  </thead>\n",
       "  <tbody>\n",
       "    <tr>\n",
       "      <th>Payers</th>\n",
       "      <td>10831</td>\n",
       "      <td>851</td>\n",
       "      <td>11682</td>\n",
       "    </tr>\n",
       "    <tr>\n",
       "      <th>Defaulters</th>\n",
       "      <td>2235</td>\n",
       "      <td>1083</td>\n",
       "      <td>3318</td>\n",
       "    </tr>\n",
       "    <tr>\n",
       "      <th>Total</th>\n",
       "      <td>13066</td>\n",
       "      <td>1934</td>\n",
       "      <td>15000</td>\n",
       "    </tr>\n",
       "  </tbody>\n",
       "</table>\n",
       "</div>"
      ],
      "text/plain": [
       "PREDICTION  Payers  Defaulters  Total\n",
       "TRUE                                 \n",
       "Payers       10831         851  11682\n",
       "Defaulters    2235        1083   3318\n",
       "Total        13066        1934  15000"
      ]
     },
     "execution_count": 18,
     "metadata": {},
     "output_type": "execute_result"
    }
   ],
   "source": [
    "# AdaBoost\n",
    "\n",
    "from sklearn.ensemble import AdaBoostClassifier\n",
    "from sklearn.tree import DecisionTreeClassifier\n",
    "\n",
    "# 500 base classifiers fit to the 2-dimensional dataset\n",
    "numBaseClassifiers = 500\n",
    "\n",
    "# Checking different sizes of max depth\n",
    "# maxdepths = [2,3,4,5,6,7,8,9,10,15,20,25,30,35,40,45,50]\n",
    "maxdepths = [10]\n",
    "\n",
    "# Keeping the individual max depth scores in a dictionary to get best one\n",
    "scores_adaboost = {}\n",
    "\n",
    "for depth in maxdepths:\n",
    "  # Initialize the AdaBoost Classifier and fit the data to the model\n",
    "  ab = AdaBoostClassifier(DecisionTreeClassifier(max_depth=depth),n_estimators=numBaseClassifiers)\n",
    "  ab.fit(X_train, y_train)\n",
    "\n",
    "  # Predict classes and store the accuracy\n",
    "  y_pred = ab.predict(X_test)\n",
    "\n",
    "  # Putting the accuracy score to the dictionary\n",
    "  scores_adaboost[depth] = accuracy_score(y_test, y_pred)\n",
    "\n",
    "best_depth = find_best_param(scores_adaboost)\n",
    "adaboost_best_depth = AdaBoostClassifier(DecisionTreeClassifier(max_depth=best_depth[0]),n_estimators=numBaseClassifiers)\n",
    "\n",
    "adaboost_best_depth.fit(X_train, y_train)\n",
    "y_pred_best = adaboost_best_depth.predict(X_test)\n",
    "\n",
    "eval_module(\"AdaBoost\", y_test, y_pred_best)\n",
    "print('Best depth is at =', best_depth[0], 'of %.3f' % best_depth[1])\n",
    "\n",
    "# Print the confusion matrix of this model\n",
    "con_matrix = confusion_matrix(y_test, y_pred)\n",
    "print_conf_matrix(con_matrix)"
   ]
  },
  {
   "cell_type": "markdown",
   "metadata": {},
   "source": [
    "### SVM\n",
    "This implementation uses Linear SVM approach with a list of C parameters. It iterates through every parameter and pick the best one. With the best parameter, the implementation calculates the prediction accuracy and sends the evaluation methods. At the end, it prints a confusion matrix.\n"
   ]
  },
  {
   "cell_type": "code",
   "execution_count": 10,
   "metadata": {
    "colab": {},
    "colab_type": "code",
    "id": "C8APL9bbCVDz"
   },
   "outputs": [
    {
     "name": "stdout",
     "output_type": "stream",
     "text": [
      "Best param is at = 1 of 0.817\n"
     ]
    },
    {
     "data": {
      "text/html": [
       "<div>\n",
       "<style scoped>\n",
       "    .dataframe tbody tr th:only-of-type {\n",
       "        vertical-align: middle;\n",
       "    }\n",
       "\n",
       "    .dataframe tbody tr th {\n",
       "        vertical-align: top;\n",
       "    }\n",
       "\n",
       "    .dataframe thead th {\n",
       "        text-align: right;\n",
       "    }\n",
       "</style>\n",
       "<table border=\"1\" class=\"dataframe\">\n",
       "  <thead>\n",
       "    <tr style=\"text-align: right;\">\n",
       "      <th>PREDICTION</th>\n",
       "      <th>Payers</th>\n",
       "      <th>Defaulters</th>\n",
       "      <th>Total</th>\n",
       "    </tr>\n",
       "    <tr>\n",
       "      <th>TRUE</th>\n",
       "      <th></th>\n",
       "      <th></th>\n",
       "      <th></th>\n",
       "    </tr>\n",
       "  </thead>\n",
       "  <tbody>\n",
       "    <tr>\n",
       "      <th>Payers</th>\n",
       "      <td>11007</td>\n",
       "      <td>675</td>\n",
       "      <td>11682</td>\n",
       "    </tr>\n",
       "    <tr>\n",
       "      <th>Defaulters</th>\n",
       "      <td>2064</td>\n",
       "      <td>1254</td>\n",
       "      <td>3318</td>\n",
       "    </tr>\n",
       "    <tr>\n",
       "      <th>Total</th>\n",
       "      <td>13071</td>\n",
       "      <td>1929</td>\n",
       "      <td>15000</td>\n",
       "    </tr>\n",
       "  </tbody>\n",
       "</table>\n",
       "</div>"
      ],
      "text/plain": [
       "PREDICTION  Payers  Defaulters  Total\n",
       "TRUE                                 \n",
       "Payers       11007         675  11682\n",
       "Defaulters    2064        1254   3318\n",
       "Total        13071        1929  15000"
      ]
     },
     "execution_count": 10,
     "metadata": {},
     "output_type": "execute_result"
    }
   ],
   "source": [
    "# SVM\n",
    "\n",
    "from sklearn import linear_model\n",
    "from sklearn.svm import SVC\n",
    "\n",
    "# Hyerparameter that controls the inverse of model complexity\n",
    "C = [0.01, 0.1, 0.2, 0.5, 0.8, 1, 5, 10, 20, 50]\n",
    "\n",
    "# Keeping the individual hypeparameter scores in a dictionary to get best one\n",
    "scores_svm = {}\n",
    "\n",
    "for param in C:\n",
    "\n",
    "  # Initialize the SVM Classifier and fit the data to the model\n",
    "  svclassifier = SVC(kernel='linear', C=param)\n",
    "  svclassifier.fit(X_train, y_train)\n",
    "\n",
    "  # Predict classes and store the accuracy\n",
    "  y_pred = svclassifier.predict(X_test)\n",
    "\n",
    "  # Putting the accuracy score to the dictionary\n",
    "  scores_svm[param] = accuracy_score(y_test, y_pred)\n",
    "\n",
    "best_param = find_best_param(scores_svm)\n",
    "svm_best_param = SVC(kernel='linear', C=best_param[0])\n",
    "\n",
    "svm_best_param.fit(X_train, y_train)\n",
    "y_pred_best = svm_best_param.predict(X_test)\n",
    "\n",
    "eval_module(\"SVM\", y_test, y_pred_best)\n",
    "print('Best param is at =', best_param[0], 'of %.3f' % best_param[1])\n",
    "\n",
    "# Print the confusion matrix of this model\n",
    "con_matrix = confusion_matrix(y_test, y_pred)\n",
    "print_conf_matrix(con_matrix)"
   ]
  },
  {
   "cell_type": "code",
   "execution_count": 19,
   "metadata": {},
   "outputs": [
    {
     "data": {
      "text/html": [
       "<div>\n",
       "<style scoped>\n",
       "    .dataframe tbody tr th:only-of-type {\n",
       "        vertical-align: middle;\n",
       "    }\n",
       "\n",
       "    .dataframe tbody tr th {\n",
       "        vertical-align: top;\n",
       "    }\n",
       "\n",
       "    .dataframe thead th {\n",
       "        text-align: right;\n",
       "    }\n",
       "</style>\n",
       "<table border=\"1\" class=\"dataframe\">\n",
       "  <thead>\n",
       "    <tr style=\"text-align: right;\">\n",
       "      <th></th>\n",
       "      <th>AdaBoost</th>\n",
       "      <th>SVM</th>\n",
       "      <th>KNN</th>\n",
       "      <th>DecisionTree</th>\n",
       "      <th>Random Forest</th>\n",
       "      <th>Bagging</th>\n",
       "    </tr>\n",
       "  </thead>\n",
       "  <tbody>\n",
       "    <tr>\n",
       "      <th>Accuracy</th>\n",
       "      <td>79.020000</td>\n",
       "      <td>81.740000</td>\n",
       "      <td>80.613333</td>\n",
       "      <td>77.780000</td>\n",
       "      <td>81.606667</td>\n",
       "      <td>81.826667</td>\n",
       "    </tr>\n",
       "    <tr>\n",
       "      <th>Precision</th>\n",
       "      <td>54.516640</td>\n",
       "      <td>65.007776</td>\n",
       "      <td>61.388889</td>\n",
       "      <td>49.649696</td>\n",
       "      <td>65.962307</td>\n",
       "      <td>67.411765</td>\n",
       "    </tr>\n",
       "    <tr>\n",
       "      <th>Recall</th>\n",
       "      <td>31.103074</td>\n",
       "      <td>37.793852</td>\n",
       "      <td>33.303195</td>\n",
       "      <td>32.037372</td>\n",
       "      <td>34.810127</td>\n",
       "      <td>34.538879</td>\n",
       "    </tr>\n",
       "  </tbody>\n",
       "</table>\n",
       "</div>"
      ],
      "text/plain": [
       "            AdaBoost        SVM        KNN  DecisionTree  Random Forest  \\\n",
       "Accuracy   79.020000  81.740000  80.613333     77.780000      81.606667   \n",
       "Precision  54.516640  65.007776  61.388889     49.649696      65.962307   \n",
       "Recall     31.103074  37.793852  33.303195     32.037372      34.810127   \n",
       "\n",
       "             Bagging  \n",
       "Accuracy   81.826667  \n",
       "Precision  67.411765  \n",
       "Recall     34.538879  "
      ]
     },
     "execution_count": 19,
     "metadata": {},
     "output_type": "execute_result"
    },
    {
     "data": {
      "image/png": "[encoded data removed]",
      "text/plain": [
       "<Figure size 576x360 with 1 Axes>"
      ]
     },
     "metadata": {
      "needs_background": "light"
     },
     "output_type": "display_data"
    }
   ],
   "source": [
    "visual_evaluation(evaluator*100)\n",
    "\n",
    "100*evaluator"
   ]
  },
  {
   "cell_type": "markdown",
   "metadata": {},
   "source": [
    "#### Final evaluation\n",
    "This graph illustrates the performance of all the algorithms using the test data. The primary three keys to evaluate are:\n",
    "- Accuracy: How the model predicted correct and incorrect defaulters\n",
    "- Precision: How often the model predicted someone is a defaulter correctly\n",
    "- Recall: Proportion of actual defaulters that the model predicted\n",
    "\n",
    "In order to choose the metrics, we need to consider which mistakes to avoid. \n",
    "In this project, the most appropriate metric to look at is Recall to catch the False Negative who are the defaulters that were predicted as payers\n",
    "\n",
    "SVM performance is generally one of the best choices but especially its Recall the most beneficial for the data."
   ]
  }
 ],
 "metadata": {
  "colab": {
   "collapsed_sections": [],
   "name": "Part 2.ipynb",
   "provenance": []
  },
  "kernelspec": {
   "display_name": "Python 3",
   "language": "python",
   "name": "python3"
  },
  "language_info": {
   "codemirror_mode": {
    "name": "ipython",
    "version": 3
   },
   "file_extension": ".py",
   "mimetype": "text/x-python",
   "name": "python",
   "nbconvert_exporter": "python",
   "pygments_lexer": "ipython3",
   "version": "3.6.9"
  }
 },
 "nbformat": 4,
 "nbformat_minor": 1
}