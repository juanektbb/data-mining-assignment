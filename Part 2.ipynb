{
 "cells": [
  {
   "cell_type": "code",
   "execution_count": 21,
   "metadata": {},
   "outputs": [],
   "source": [
    "# The cell below imports the relevant libraries and read the data from the specified files"
   ]
  },
  {
   "cell_type": "code",
   "execution_count": 3,
   "metadata": {},
   "outputs": [],
   "source": [
    "import pandas as pd\n",
    "import numpy as np\n",
    "\n",
    "train_data = pd.read_csv('creditdefault_train.csv', header='infer')\n",
    "test_data = pd.read_csv('creditdefault_test.csv', header='infer')\n",
    "\n",
    "\n",
    "\n",
    "# X1: Amount of the given credit (NT dollar): it includes both the individual consumer credit and his/her family (supplementary) credit.\n",
    "# X2: Gender (1 = male; 2 = female).\n",
    "# X3: Education (1 = graduate school; 2 = university; 3 = high school; 4 = others).\n",
    "# X4: Marital status (1 = married; 2 = single; 3 = others).\n",
    "# X5: Age (year).\n",
    "# X6 - X11: History of past payment. One tracked the past monthly payment records (from April to September, 2005) as follows: X6 = the repayment status in September, 2005; X7 = the repayment status in August, 2005; . . .;X11 = the repayment status in April, 2005. The measurement scale for the repayment status is: -1 = pay duly; 1 = payment delay for one month; 2 = payment delay for two months; . . .; 8 = payment delay for eight months; 9 = payment delay for nine months and above.\n",
    "# X12-X17: Amount of bill statement (NT dollar). X12 = amount of bill statement in September, 2005; X13 = amount of bill statement in August, 2005; . . .; X17 = amount of bill statement in April, 2005.\n",
    "# X18-X23: Amount of previous payment (NT dollar). X18 = amount paid in September, 2005; X19 = amount paid in August, 2005; . . .;X23 = amount paid in April, 2005.\n",
    "\n",
    "\n",
    "\n",
    "# Separate classes from dataset\n",
    "y_train = train_data['Y']\n",
    "X_train = train_data.drop(['Y'],axis=1)\n",
    "\n",
    "y_test = test_data['Y']\n",
    "X_test = test_data.drop(['Y'],axis=1)\n",
    "\n"
   ]
  },
  {
   "cell_type": "code",
   "execution_count": null,
   "metadata": {},
   "outputs": [],
   "source": []
  },
  {
   "cell_type": "code",
   "execution_count": 23,
   "metadata": {},
   "outputs": [
    {
     "name": "stdout",
     "output_type": "stream",
     "text": [
      "{1: 0.6913333333333334, 2: 0.7639333333333334, 3: 0.734, 4: 0.7664, 5: 0.7518}\n"
     ]
    }
   ],
   "source": [
    "# KNN for 1 to 10\n",
    "\n",
    "from sklearn.neighbors import KNeighborsClassifier\n",
    "from sklearn import metrics\n",
    "\n",
    "scores = {}\n",
    "total_k = 6\n",
    "\n",
    "for k in range(1, total_k):\n",
    "    \n",
    "    # Initialize KNN\n",
    "    knn = KNeighborsClassifier(n_neighbors = k)\n",
    "    knn.fit(X_train, y_train)\n",
    "    \n",
    "    # Predict classes for testing data\n",
    "    y_pred = knn.predict(X_test)\n",
    "    \n",
    "    # Store the total accuracy values and percentage\n",
    "    scores[k] = metrics.accuracy_score(y_test, y_pred, normalize = False) / len(y_test)\n",
    "    \n",
    "\n",
    "print(scores)  \n",
    "\n",
    "\n",
    "# Juan: I need to build a function to find the best of scores\n",
    "# Use this: print('Accuracy on test data is %.2f' % (accuracy_score(testY, predY)))"
   ]
  },
  {
   "cell_type": "code",
   "execution_count": 24,
   "metadata": {},
   "outputs": [
    {
     "name": "stdout",
     "output_type": "stream",
     "text": [
      "0.8001333333333334\n"
     ]
    }
   ],
   "source": [
    "# Decision tree\n",
    "\n",
    "from sklearn.tree import DecisionTreeClassifier\n",
    "\n",
    "clf = DecisionTreeClassifier(criterion='entropy', max_depth=12)\n",
    "clf = clf.fit(X_train, y_train)\n",
    "\n",
    "y_pred = clf.predict(X_test)\n",
    "score = metrics.accuracy_score(y_test, y_pred, normalize = False) / len(y_test)\n",
    "\n",
    "print(score)\n"
   ]
  },
  {
   "cell_type": "code",
   "execution_count": 25,
   "metadata": {
    "scrolled": true
   },
   "outputs": [
    {
     "data": {
      "text/plain": [
       "'\\nUsing Python and any relevant libraries,\\nyou are required to build the best predictive model\\nby tuning models using cross validation on the training dataset\\nwith each of the following algorithms (seen in class):\\nkNN, decision trees, Random Forest, Bagging, Boosting, and SVM.\\n'"
      ]
     },
     "execution_count": 25,
     "metadata": {},
     "output_type": "execute_result"
    }
   ],
   "source": [
    "'''\n",
    "Using Python and any relevant libraries,\n",
    "you are required to build the best predictive model\n",
    "by tuning models using cross validation on the training dataset\n",
    "with each of the following algorithms (seen in class):\n",
    "kNN, decision trees, Random Forest, Bagging, Boosting, and SVM.\n",
    "'''"
   ]
  },
  {
   "cell_type": "code",
   "execution_count": 41,
   "metadata": {},
   "outputs": [
    {
     "name": "stdout",
     "output_type": "stream",
     "text": [
      "[0.9997333333333334, 0.8704, 0.9997333333333334]\n",
      "[0.8154, 0.8186666666666667, 0.7974666666666667]\n"
     ]
    },
    {
     "data": {
      "text/plain": [
       "[Text(0, 0, 'Random Forest'), Text(0, 0, 'Bagging'), Text(0, 0, 'AdaBoost')]"
      ]
     },
     "execution_count": 41,
     "metadata": {},
     "output_type": "execute_result"
    },
    {
     "data": {
      "image/png": "[encoded data removed]",
      "text/plain": [
       "<Figure size 864x432 with 2 Axes>"
      ]
     },
     "metadata": {
      "needs_background": "light"
     },
     "output_type": "display_data"
    }
   ],
   "source": [
    "from sklearn import ensemble\n",
    "import matplotlib.pyplot as plt\n",
    "\n",
    "from sklearn.tree import DecisionTreeClassifier\n",
    "from sklearn.ensemble import BaggingClassifier\n",
    "from sklearn.ensemble import AdaBoostClassifier\n",
    "from sklearn.ensemble import RandomForestClassifier\n",
    "\n",
    "from sklearn import metrics\n",
    "\n",
    "# These numbers need to be checked my niggi\n",
    "numBaseClassifiers = 500\n",
    "maxdepth = 10\n",
    "\n",
    "# Accuracy scores\n",
    "trainAcc = []\n",
    "testAcc = []\n",
    "\n",
    "\n",
    "# Random Forest\n",
    "rf = ensemble.RandomForestClassifier(n_estimators=numBaseClassifiers)\n",
    "rf.fit(X_train, y_train)\n",
    "rf_y_predTrain = rf.predict(X_train)\n",
    "rf_y_predTest = rf.predict(X_test)\n",
    "trainAcc.append(metrics.accuracy_score(y_train, rf_y_predTrain))\n",
    "testAcc.append(metrics.accuracy_score(y_test, rf_y_predTest))\n",
    "\n",
    "\n",
    "# Bagging\n",
    "bg = ensemble.BaggingClassifier(DecisionTreeClassifier(max_depth=maxdepth),n_estimators=numBaseClassifiers)\n",
    "bg.fit(X_train, y_train)\n",
    "bg_y_predTrain = bg.predict(X_train)\n",
    "bg_y_predTest = bg.predict(X_test)\n",
    "trainAcc.append(metrics.accuracy_score(y_train, bg_y_predTrain))\n",
    "testAcc.append(metrics.accuracy_score(y_test, bg_y_predTest))\n",
    "\n",
    "\n",
    "# AdaBoost\n",
    "ab = ensemble.AdaBoostClassifier(DecisionTreeClassifier(max_depth=maxdepth),n_estimators=numBaseClassifiers)\n",
    "ab.fit(X_train, y_train)\n",
    "ab_y_predTrain = clf.predict(X_train)\n",
    "ab_y_predTest = clf.predict(X_test)\n",
    "trainAcc.append(metrics.accuracy_score(y_train, ab_y_predTrain))\n",
    "testAcc.append(metrics.accuracy_score(y_test, ab_y_predTest))\n",
    "    \n",
    "    \n",
    "\n",
    "print(trainAcc)\n",
    "print(testAcc)\n",
    "\n",
    "methods = ['Random Forest', 'Bagging', 'AdaBoost']\n",
    "fig, (ax1, ax2) = plt.subplots(1, 2, figsize=(12,6))\n",
    "ax1.bar([1.5,2.5,3.5], trainAcc)\n",
    "ax1.set_xticks([1.5,2.5,3.5])\n",
    "ax1.set_xticklabels(methods)\n",
    "ax2.bar([1.5,2.5,3.5], testAcc)\n",
    "ax2.set_xticks([1.5,2.5,3.5])\n",
    "ax2.set_xticklabels(methods)"
   ]
  },
  {
   "cell_type": "code",
   "execution_count": null,
   "metadata": {},
   "outputs": [],
   "source": [
    "from sklearn import linear_model\n",
    "from sklearn.svm import SVC\n",
    "import matplotlib.pyplot as plt\n",
    "\n",
    "from sklearn import metrics\n",
    "\n",
    "C = [0.01, 0.1, 0.2, 0.5, 0.8, 1, 5, 10, 20, 50]\n",
    "LRtrainAcc = []\n",
    "LRtestAcc = []\n",
    "SVMtrainAcc = []\n",
    "SVMtestAcc = []\n",
    "\n",
    "for param in C:\n",
    "    print(param)\n",
    "    clf = linear_model.LogisticRegression(C=param)\n",
    "    clf.fit(X_train, y_train)\n",
    "    y_predTrain = clf.predict(X_train)\n",
    "    y_predTest = clf.predict(X_test)\n",
    "    LRtrainAcc.append(metrics.accuracy_score(y_train, y_predTrain))\n",
    "    LRtestAcc.append(metrics.accuracy_score(y_test, y_predTest))\n",
    "\n",
    "    clf = SVC(C=param,kernel='linear')\n",
    "    clf.fit(X_train, y_train)\n",
    "    y_predTrain = clf.predict(X_train)\n",
    "    y_predTest = clf.predict(X_test)\n",
    "    SVMtrainAcc.append(metrics.accuracy_score(y_train, y_predTrain))\n",
    "    SVMtestAcc.append(metrics.accuracy_score(y_test, y_predTest))\n",
    "\n",
    "fig, (ax1, ax2) = plt.subplots(1, 2, figsize=(12,6))\n",
    "ax1.plot(C, LRtrainAcc, 'ro-', C, LRtestAcc,'bv--')\n",
    "ax1.legend(['Training Accuracy','Test Accuracy'])\n",
    "ax1.set_xlabel('C')\n",
    "ax1.set_xscale('log')\n",
    "ax1.set_ylabel('Accuracy')\n",
    "\n",
    "ax2.plot(C, SVMtrainAcc, 'ro-', C, SVMtestAcc,'bv--')\n",
    "ax2.legend(['Training Accuracy','Test Accuracy'])\n",
    "ax2.set_xlabel('C')\n",
    "ax2.set_xscale('log')\n",
    "ax2.set_ylabel('Accuracy')\n"
   ]
  },
  {
   "cell_type": "code",
   "execution_count": null,
   "metadata": {},
   "outputs": [],
   "source": [
    "'''\n",
    "Out of the models tuned with the above algorithms,\n",
    "select the best model and clearly justify your choice,\n",
    "and evaluate its performance on the test set. \n",
    "'''"
   ]
  },
  {
   "cell_type": "code",
   "execution_count": null,
   "metadata": {},
   "outputs": [],
   "source": [
    "# This library will work for accuracy calculation"
   ]
  },
  {
   "cell_type": "code",
   "execution_count": null,
   "metadata": {},
   "outputs": [],
   "source": [
    "from sklearn import metrics\n",
    "#metrics.accuracy_score() is the function needed. y_test and y_pred are the arguments we'll use\n",
    "\n",
    "\n",
    "def get_best(prediction_values):\n",
    "    # for loop\n",
    "    best_value = -1\n",
    "    return best_value\n"
   ]
  },
  {
   "cell_type": "code",
   "execution_count": null,
   "metadata": {},
   "outputs": [],
   "source": [
    "def first_random_forest_implementation():\n",
    "    # random forest\n",
    "    from sklearn.ensemble import RandomForestClassifier\n",
    "    from sklearn import metrics\n",
    "    # rf = RandomForestRegressor(n_estimators = 1000, random_state = 42)\n",
    "    # rf.fit(X, y) # x is features and y is the label\n",
    "    # # to get the predictions we use\n",
    "    # prediction = rf.predict(arg) # where arg1 is the test features\n",
    "    # # Calculate mean absolute percentage error (MAPE)\n",
    "    # mape = 100 * (errors / test_labels)# Calculate and display accuracy\n",
    "    # accuracy = 100 - np.mean(mape)\n",
    "    # print('Accuracy:', round(accuracy, 2), '%.')\n",
    "    # ### prediction_values['random_forest'] = random_forest_prediction\n",
    "    rf = RandomForestClassifier(random_state=0, max_features=10)\n",
    "    rfModel = rf.fit(X_train, y_train)\n",
    "    y_pred = rfModel.predict(X_test)\n",
    "    print('Accuracy on test data is %.2f' % (metrics.accuracy_score(y_test, y_pred)))\n",
    "\n",
    "    # print('Mean Absolute Error:', metrics.mean_absolute_error(y_test, y_pred))\n",
    "    # print('Mean Squared Error:', metrics.mean_squared_error(y_test, y_pred))\n",
    "    # print('Root Mean Squared Error:', np.sqrt(metrics.mean_squared_error(y_test, y_pred)))"
   ]
  }
 ],
 "metadata": {
  "kernelspec": {
   "display_name": "Python 3",
   "language": "python",
   "name": "python3"
  },
  "language_info": {
   "codemirror_mode": {
    "name": "ipython",
    "version": 3
   },
   "file_extension": ".py",
   "mimetype": "text/x-python",
   "name": "python",
   "nbconvert_exporter": "python",
   "pygments_lexer": "ipython3",
   "version": "3.7.4"
  }
 },
 "nbformat": 4,
 "nbformat_minor": 4
}
